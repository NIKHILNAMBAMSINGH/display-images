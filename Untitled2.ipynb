{
 "cells": [
  {
   "cell_type": "code",
   "execution_count": 4,
   "id": "b8b7153b",
   "metadata": {},
   "outputs": [],
   "source": [
    "import os\n",
    "path=os.chdir(\"D:/New Brain Tumor dataset/Testing/pituitary\")\n",
    "i=10\n",
    "for file in os.listdir(path):\n",
    "     new_filename=\"Te-pituitary_00{}.jpg\".format(i)\n",
    "     os.rename(file, new_filename)\n",
    "    \n",
    "     i=i+10"
   ]
  },
  {
   "cell_type": "code",
   "execution_count": null,
   "id": "3108193e",
   "metadata": {},
   "outputs": [],
   "source": []
  }
 ],
 "metadata": {
  "kernelspec": {
   "display_name": "Python 3 (ipykernel)",
   "language": "python",
   "name": "python3"
  },
  "language_info": {
   "codemirror_mode": {
    "name": "ipython",
    "version": 3
   },
   "file_extension": ".py",
   "mimetype": "text/x-python",
   "name": "python",
   "nbconvert_exporter": "python",
   "pygments_lexer": "ipython3",
   "version": "3.9.7"
  }
 },
 "nbformat": 4,
 "nbformat_minor": 5
}
