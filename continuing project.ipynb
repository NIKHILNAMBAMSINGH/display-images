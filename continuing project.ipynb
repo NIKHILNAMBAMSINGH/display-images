{
 "cells": [
  {
   "cell_type": "code",
   "execution_count": 3,
   "id": "ca4f0735",
   "metadata": {},
   "outputs": [],
   "source": [
    "import tensorflow as tf\n",
    "from tensorflow import keras\n",
    "from tensorflow.keras.models import Sequential\n",
    "from tensorflow.keras.layers import Dense, Flatten, Conv2D, MaxPooling2D, Dropout\n",
    "from tensorflow.keras.layers import BatchNormalization\n",
    "from tensorflow.keras.preprocessing.image import ImageDataGenerator\n",
    "from tensorflow.keras.optimizers import Adam, SGD\n",
    "import cv2\n",
    "import matplotlib.pyplot as plt\n",
    "\n"
   ]
  },
  {
   "cell_type": "code",
   "execution_count": 4,
   "id": "fe1398b1",
   "metadata": {},
   "outputs": [],
   "source": [
    "generator_train = ImageDataGenerator(rescale=1./255,\n",
    "                                    featurewise_center=False,\n",
    "                                    samplewise_center=False,\n",
    "                                    featurewise_std_normalization=False,\n",
    "                                    samplewise_std_normalization=False,\n",
    "                                    zca_whitening=False,\n",
    "                                    rotation_range=0,\n",
    "                                    zoom_range = 0,\n",
    "                                    width_shift_range=0,\n",
    "                                    height_shift_range=0,\n",
    "                                    horizontal_flip=True,\n",
    "                                    vertical_flip=False) \n",
    "\n",
    "generator_test = ImageDataGenerator(rescale=1./255,\n",
    "                                    featurewise_center=False,\n",
    "                                    samplewise_center=False,\n",
    "                                    featurewise_std_normalization=False,\n",
    "                                    samplewise_std_normalization=False,\n",
    "                                    zca_whitening=False,\n",
    "                                    rotation_range=0,\n",
    "                                    zoom_range = 0,\n",
    "                                    width_shift_range=0,\n",
    "                                    height_shift_range=0,\n",
    "                                    horizontal_flip=True,\n",
    "                                    vertical_flip=False)"
   ]
  },
  {
   "cell_type": "code",
   "execution_count": 5,
   "id": "e50fbf4a",
   "metadata": {},
   "outputs": [
    {
     "name": "stdout",
     "output_type": "stream",
     "text": [
      "Found 5712 images belonging to 4 classes.\n",
      "Found 1311 images belonging to 4 classes.\n"
     ]
    }
   ],
   "source": [
    "train = generator_train.flow_from_directory('D:/New Brain Tumor dataset/Training', target_size=(224,224),\n",
    "                                              batch_size=32, class_mode= \"categorical\", color_mode='grayscale')\n",
    "\n",
    "test = generator_test.flow_from_directory('D:/New Brain Tumor dataset/Testing', target_size=(224,224),\n",
    "                                              batch_size=32, class_mode= \"categorical\", color_mode='grayscale')\n"
   ]
  },
  {
   "cell_type": "code",
   "execution_count": 6,
   "id": "be0cda0f",
   "metadata": {},
   "outputs": [],
   "source": [
    "model1 = Sequential()\n",
    "\n",
    "# Convolutional layer 1\n",
    "model1.add(Conv2D(32,(3,3), input_shape=(224, 224, 1), activation='relu'))\n",
    "model1.add(BatchNormalization())\n",
    "model1.add(MaxPooling2D(pool_size=(2,2)))\n",
    "\n",
    "# Convolutional layer 2\n",
    "model1.add(Conv2D(32,(3,3), activation='relu'))\n",
    "model1.add(BatchNormalization())\n",
    "model1.add(MaxPooling2D(pool_size=(2,2)))\n",
    "\n",
    "model1.add(Flatten())\n",
    "\n",
    "# Neural network\n",
    "\n",
    "model1.add(Dense(units= 252, activation='relu'))\n",
    "model1.add(Dropout(0.2))\n",
    "model1.add(Dense(units=252, activation='relu'))\n",
    "model1.add(Dropout(0.2))\n",
    "model1.add(Dense(units=4, activation='softmax'))\n"
   ]
  },
  {
   "cell_type": "code",
   "execution_count": 7,
   "id": "e01f57f9",
   "metadata": {},
   "outputs": [
    {
     "name": "stdout",
     "output_type": "stream",
     "text": [
      "Model: \"sequential\"\n",
      "_________________________________________________________________\n",
      " Layer (type)                Output Shape              Param #   \n",
      "=================================================================\n",
      " conv2d (Conv2D)             (None, 222, 222, 32)      320       \n",
      "                                                                 \n",
      " batch_normalization (BatchN  (None, 222, 222, 32)     128       \n",
      " ormalization)                                                   \n",
      "                                                                 \n",
      " max_pooling2d (MaxPooling2D  (None, 111, 111, 32)     0         \n",
      " )                                                               \n",
      "                                                                 \n",
      " conv2d_1 (Conv2D)           (None, 109, 109, 32)      9248      \n",
      "                                                                 \n",
      " batch_normalization_1 (Batc  (None, 109, 109, 32)     128       \n",
      " hNormalization)                                                 \n",
      "                                                                 \n",
      " max_pooling2d_1 (MaxPooling  (None, 54, 54, 32)       0         \n",
      " 2D)                                                             \n",
      "                                                                 \n",
      " flatten (Flatten)           (None, 93312)             0         \n",
      "                                                                 \n",
      " dense (Dense)               (None, 252)               23514876  \n",
      "                                                                 \n",
      " dropout (Dropout)           (None, 252)               0         \n",
      "                                                                 \n",
      " dense_1 (Dense)             (None, 252)               63756     \n",
      "                                                                 \n",
      " dropout_1 (Dropout)         (None, 252)               0         \n",
      "                                                                 \n",
      " dense_2 (Dense)             (None, 4)                 1012      \n",
      "                                                                 \n",
      "=================================================================\n",
      "Total params: 23,589,468\n",
      "Trainable params: 23,589,340\n",
      "Non-trainable params: 128\n",
      "_________________________________________________________________\n"
     ]
    }
   ],
   "source": [
    "model1.summary()"
   ]
  },
  {
   "cell_type": "code",
   "execution_count": 8,
   "id": "abac5912",
   "metadata": {},
   "outputs": [],
   "source": [
    "optimizer = tf.keras.optimizers.Adam(learning_rate=0.001, decay=0.0001, clipvalue=0.5)\n",
    "model1.compile(optimizer=optimizer, loss='categorical_crossentropy',\n",
    "                   metrics= ['categorical_accuracy'])\n"
   ]
  },
  {
   "cell_type": "code",
   "execution_count": null,
   "id": "03a5b370",
   "metadata": {},
   "outputs": [
    {
     "name": "stdout",
     "output_type": "stream",
     "text": [
      "Epoch 1/100\n",
      "178/178 [==============================] - 546s 3s/step - loss: 3.2952 - categorical_accuracy: 0.6556 - val_loss: 13.5590 - val_categorical_accuracy: 0.2742\n",
      "Epoch 2/100\n",
      " 32/178 [====>.........................] - ETA: 5:41 - loss: 1.0475 - categorical_accuracy: 0.7158"
     ]
    }
   ],
   "source": [
    "history1 = model1.fit(train, steps_per_epoch=5712//32, epochs=100, validation_data=test, validation_steps= 1311//32)"
   ]
  },
  {
   "cell_type": "code",
   "execution_count": null,
   "id": "4f7484af",
   "metadata": {},
   "outputs": [],
   "source": []
  }
 ],
 "metadata": {
  "kernelspec": {
   "display_name": "Python 3 (ipykernel)",
   "language": "python",
   "name": "python3"
  },
  "language_info": {
   "codemirror_mode": {
    "name": "ipython",
    "version": 3
   },
   "file_extension": ".py",
   "mimetype": "text/x-python",
   "name": "python",
   "nbconvert_exporter": "python",
   "pygments_lexer": "ipython3",
   "version": "3.9.7"
  }
 },
 "nbformat": 4,
 "nbformat_minor": 5
}
